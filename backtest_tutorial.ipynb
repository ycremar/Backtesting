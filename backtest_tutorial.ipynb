{
 "cells": [
  {
   "cell_type": "markdown",
   "id": "2d0eecde-c3f6-48ac-8682-630fb7fa4a0e",
   "metadata": {},
   "source": [
    "# Tutorial for Homework 3: Backtesting - Team 7\n",
    "-----"
   ]
  },
  {
   "cell_type": "markdown",
   "id": "2700c940",
   "metadata": {},
   "source": [
    "In this tutorial, we aim to develop a working trading stratergy for day trading stocks and then backtesting that stratergy.  A starting cash on hand for investments is $100,000, and investments are weighted based on predictability with constraints on the number of short/long positions and maximum amount per position. The backtest period include enough data prior to 1/1/2021 to begin trading on the first trading day of 2021. Stocks from the Energy sector were used. Performance measures for the backtest include factors such as the number of long trades, percentage of winning long trades, average return of long trades, number of short trades etc. "
   ]
  },
  {
   "cell_type": "markdown",
   "id": "1ab19f89",
   "metadata": {},
   "source": [
    "### Learning outcomes\n",
    "1. Developing a stock investment strategy based on predictability and accuracy.\n",
    "2. Filtering predictions based on a threshold return level and confidence intervals.\n",
    "3. Weighing investments based on predictability and employing constraints on investments such as the number of short/long positions and maximum amount per position.\n",
    "4. Learning how to conduct a backtest period that includes enough data prior to the start of trading and performance measures for evaluating the backtest results.\n",
    "5. Understanding how to trade both long and short positions on a daily basis as part of an investment strategy."
   ]
  },
  {
   "cell_type": "markdown",
   "id": "ce7a79e6",
   "metadata": {},
   "source": [
    "### Outline of this tutorial\n",
    "\n",
    "Our tutorial split the task into four subtasks. They are\n",
    "\n",
    "- **Data preprocessing**: Filter the stocks to only include those in the energy sector in the desired period of time. And exclude any symbols that are removed from S&P in our backtesting period (to avoid running errors).\n",
    "- **Generating signals/indicators**: Use Holt-Winters method (a time series model) of double exponential smoothing to make predictions about future stock prices. The signals include both the predicted close price on the next day and the sigma (confidence interval) of the prediction.\n",
    "- **Rule-based trading strategy**: Filter the predictions based on a threshold of return level and determine the amount based on the confidence intervals. Trade both long and short positions on a daily basis, using the filtered predictions to make investment decisions.\n",
    "- **Running the strategy, backtesting, and performance evaluation**: Run the developed strategy with a given initial fund. Apply constraints and adjustment to the strategy. Then evaluate performance measures for the backtest on factors such as the percentage of winning trades, Sharpe Ratio, cumulative portfolio return, and maximum drawdown."
   ]
  },
  {
   "cell_type": "markdown",
   "id": "504b577d",
   "metadata": {},
   "source": [
    "Loading libraries for this tutorial: \n",
    "To execute this stratergy, we would need the following libraries. Two new libraries are used in this tutorial. The `zoo` library provides function regarding matrix processing. We specifically use the `rollapply` function from the library as a more efficient alternative of for-loop when compute the signal given windows. The `forecast` library provides a rich collection of time series models including the `ets` model we use."
   ]
  },
  {
   "cell_type": "code",
   "execution_count": 1,
   "id": "c37bfbf2-68ca-4731-a218-16f35fe6105c",
   "metadata": {},
   "outputs": [
    {
     "name": "stderr",
     "output_type": "stream",
     "text": [
      "── \u001b[1mAttaching packages\u001b[22m ─────────────────────────────────────── tidyverse 1.3.2 ──\n",
      "\u001b[32m✔\u001b[39m \u001b[34mggplot2\u001b[39m 3.4.0     \u001b[32m✔\u001b[39m \u001b[34mpurrr  \u001b[39m 1.0.1\n",
      "\u001b[32m✔\u001b[39m \u001b[34mtibble \u001b[39m 3.1.8     \u001b[32m✔\u001b[39m \u001b[34mstringr\u001b[39m 1.5.0\n",
      "\u001b[32m✔\u001b[39m \u001b[34mtidyr  \u001b[39m 1.3.0     \u001b[32m✔\u001b[39m \u001b[34mforcats\u001b[39m 1.0.0\n",
      "\u001b[32m✔\u001b[39m \u001b[34mreadr  \u001b[39m 2.1.3     \n",
      "── \u001b[1mConflicts\u001b[22m ────────────────────────────────────────── tidyverse_conflicts() ──\n",
      "\u001b[31m✖\u001b[39m \u001b[34mdplyr\u001b[39m::\u001b[32mfilter()\u001b[39m masks \u001b[34mstats\u001b[39m::filter()\n",
      "\u001b[31m✖\u001b[39m \u001b[34mdplyr\u001b[39m::\u001b[32mlag()\u001b[39m    masks \u001b[34mstats\u001b[39m::lag()\n",
      "Registered S3 method overwritten by 'quantmod':\n",
      "  method            from\n",
      "  as.zoo.data.frame zoo \n",
      "\n"
     ]
    }
   ],
   "source": [
    "library(dplyr, warn.conflicts = FALSE)\n",
    "library(tidyverse, warn.conflicts = FALSE)\n",
    "library(zoo, warn.conflicts = FALSE)\n",
    "library(scales, warn.conflicts = FALSE)\n",
    "library(forecast, warn.conflicts = FALSE)\n",
    "options(dplyr.summarise.inform = FALSE)"
   ]
  },
  {
   "cell_type": "markdown",
   "id": "2f46d148-dace-4ce8-8eaa-e151b1c63dec",
   "metadata": {},
   "source": [
    "### Pre-processing with the given data"
   ]
  },
  {
   "cell_type": "markdown",
   "id": "84411d5d-c811-4913-a7e0-a32f3c09da33",
   "metadata": {},
   "source": [
    "We start by loading the data and sampling a subset within the given time range and from the energe sector. We plan to use a window size of 20. Therefore, we set the starting date to 2020-12-03, which is 20 trading days earlier than 2021-01-01."
   ]
  },
  {
   "cell_type": "code",
   "execution_count": 2,
   "id": "4784955b-5fc8-4e53-8246-528f7e161454",
   "metadata": {},
   "outputs": [],
   "source": [
    "load(\"universe.rdata\")\n",
    "from<-as.Date(\"2020-12-03\")\n",
    "to<-as.Date(\"2023-12-23\")\n",
    "universe<-subset(universe,universe$Sector==\"Energy\"&\n",
    "                 universe$date>=from&universe$date<=to)"
   ]
  },
  {
   "cell_type": "markdown",
   "id": "6bfc894d-f99d-432a-af6e-0321700951ef",
   "metadata": {},
   "source": [
    "Our strategy will be simply based on the open and close price. Therefore we only keep the desired columns in the dataframe. We also remove duplicated rows in the dataframe (just in case)."
   ]
  },
  {
   "cell_type": "code",
   "execution_count": 3,
   "id": "0f86dfdb-7583-4251-a799-cebcca7951d0",
   "metadata": {},
   "outputs": [],
   "source": [
    "universe<-universe[, c('symbol', 'date', 'open', 'high', 'low', 'close')]\n",
    "universe<-unique(universe)\n",
    "universe<-universe[order(universe$symbol,universe$date),]"
   ]
  },
  {
   "cell_type": "markdown",
   "id": "a7dee1e9-0585-49dd-8c5b-44f8c2e529e2",
   "metadata": {},
   "source": [
    "To avoid the case that \"a stock which we have opening positions is removed from S&P 500 and its future data is lacking\" happens, we also remove stocks that are removed from or added to the S&P 500 within the time period. This is to simplify the exception handling of our strategy. In practice, \n",
    "\n",
    "- For removed stocks, since there would be notification several days before a stock is removed, we can just avoid the trading of that stock in advance (by removing it from the dataframe).\n",
    "\n",
    "- For newly added stocks, we can still use their history data even they are not in S&P 500."
   ]
  },
  {
   "cell_type": "code",
   "execution_count": 4,
   "id": "9d33c0e1-d5e0-4309-a6f5-58cfcfbacf7b",
   "metadata": {},
   "outputs": [
    {
     "data": {
      "text/html": [
       "555"
      ],
      "text/latex": [
       "555"
      ],
      "text/markdown": [
       "555"
      ],
      "text/plain": [
       "[1] 555"
      ]
     },
     "metadata": {},
     "output_type": "display_data"
    }
   ],
   "source": [
    "maxdate <- max((universe %>% group_by(symbol) %>% summarize(days=n()))[,2])\n",
    "maxdate"
   ]
  },
  {
   "cell_type": "markdown",
   "id": "34885395-027f-423b-a826-b05ef986b6b5",
   "metadata": {},
   "source": [
    "We know that if a symbol belongs to S&P 500 during the entire time period and remains tradable, the total number of days will be 785. Next, we filter out any symbols that have less than 555 trading days."
   ]
  },
  {
   "cell_type": "code",
   "execution_count": 5,
   "id": "6e2e706d-783d-466e-816e-6ad58bd4c160",
   "metadata": {},
   "outputs": [],
   "source": [
    "keep_symbol <- universe %>% group_by(symbol) %>% \n",
    "    summarise(days=n()) %>% mutate(keep = (days==maxdate))\n",
    "universe <- universe[merge(universe, keep_symbol, by='symbol')$keep,]"
   ]
  },
  {
   "cell_type": "markdown",
   "id": "ecd1f45b-8683-479e-87dc-77afc4e9bfea",
   "metadata": {},
   "source": [
    "Below is a summary of the processed dataset. We now have 11655 entries in the table, with the starting date 2020-12-03, and end date 2023-02-16."
   ]
  },
  {
   "cell_type": "code",
   "execution_count": 6,
   "id": "48806ad6-5a20-4eee-85b5-e70de7e2c641",
   "metadata": {},
   "outputs": [
    {
     "data": {
      "text/plain": [
       "    symbol               date                 open             high       \n",
       " Length:11655       Min.   :2020-12-03   Min.   :  6.14   Min.   :  6.31  \n",
       " Class :character   1st Qu.:2021-06-23   1st Qu.: 26.39   1st Qu.: 26.85  \n",
       " Mode  :character   Median :2022-01-10   Median : 56.90   Median : 57.90  \n",
       "                    Mean   :2022-01-10   Mean   : 66.44   Mean   : 67.57  \n",
       "                    3rd Qu.:2022-08-01   3rd Qu.: 91.53   3rd Qu.: 92.97  \n",
       "                    Max.   :2023-02-16   Max.   :286.49   Max.   :288.46  \n",
       "      low              close       \n",
       " Min.   :  6.005   Min.   :  6.19  \n",
       " 1st Qu.: 25.933   1st Qu.: 26.39  \n",
       " Median : 55.960   Median : 56.94  \n",
       " Mean   : 65.321   Mean   : 66.48  \n",
       " 3rd Qu.: 89.885   3rd Qu.: 91.47  \n",
       " Max.   :282.310   Max.   :285.28  "
      ]
     },
     "metadata": {},
     "output_type": "display_data"
    }
   ],
   "source": [
    "summary(universe)"
   ]
  },
  {
   "cell_type": "markdown",
   "id": "d9dab23a-745a-404f-a997-b6a88d18899b",
   "metadata": {},
   "source": [
    "We then set the constraints including initial equility, max long trades per day, max short trades per day and the return threshold"
   ]
  },
  {
   "cell_type": "code",
   "execution_count": 7,
   "id": "c2f8e643-9ffd-4706-9f71-091f35e44a9d",
   "metadata": {},
   "outputs": [],
   "source": [
    "symbols<-unique(universe$symbol)\n",
    "dates <- unique(universe$date)\n",
    "numsymbols<-length(symbols)\n",
    "\n",
    "window<-20\n",
    "initialequity<-100000\n",
    "maxlongtrades<-10\n",
    "maxshorttrades<-5\n",
    "returnthreshold<-0.02"
   ]
  },
  {
   "cell_type": "markdown",
   "id": "d944069c-0cbd-4984-b8e7-325fc9ae5b45",
   "metadata": {},
   "source": [
    "Our strategy will be executed on the following symbols from the energy sector of S&P 500."
   ]
  },
  {
   "cell_type": "code",
   "execution_count": 8,
   "id": "a512e857-cb46-43c1-985a-f3f943e0b043",
   "metadata": {},
   "outputs": [
    {
     "data": {
      "text/html": [
       "<style>\n",
       ".list-inline {list-style: none; margin:0; padding: 0}\n",
       ".list-inline>li {display: inline-block}\n",
       ".list-inline>li:not(:last-child)::after {content: \"\\00b7\"; padding: 0 .5ex}\n",
       "</style>\n",
       "<ol class=list-inline><li>'APA'</li><li>'BKR'</li><li>'COP'</li><li>'CVX'</li><li>'DVN'</li><li>'EOG'</li><li>'FANG'</li><li>'HAL'</li><li>'HES'</li><li>'KMI'</li><li>'MPC'</li><li>'MRO'</li><li>'NOV'</li><li>'OKE'</li><li>'OXY'</li><li>'PSX'</li><li>'PXD'</li><li>'SLB'</li><li>'VLO'</li><li>'WMB'</li><li>'XOM'</li></ol>\n"
      ],
      "text/latex": [
       "\\begin{enumerate*}\n",
       "\\item 'APA'\n",
       "\\item 'BKR'\n",
       "\\item 'COP'\n",
       "\\item 'CVX'\n",
       "\\item 'DVN'\n",
       "\\item 'EOG'\n",
       "\\item 'FANG'\n",
       "\\item 'HAL'\n",
       "\\item 'HES'\n",
       "\\item 'KMI'\n",
       "\\item 'MPC'\n",
       "\\item 'MRO'\n",
       "\\item 'NOV'\n",
       "\\item 'OKE'\n",
       "\\item 'OXY'\n",
       "\\item 'PSX'\n",
       "\\item 'PXD'\n",
       "\\item 'SLB'\n",
       "\\item 'VLO'\n",
       "\\item 'WMB'\n",
       "\\item 'XOM'\n",
       "\\end{enumerate*}\n"
      ],
      "text/markdown": [
       "1. 'APA'\n",
       "2. 'BKR'\n",
       "3. 'COP'\n",
       "4. 'CVX'\n",
       "5. 'DVN'\n",
       "6. 'EOG'\n",
       "7. 'FANG'\n",
       "8. 'HAL'\n",
       "9. 'HES'\n",
       "10. 'KMI'\n",
       "11. 'MPC'\n",
       "12. 'MRO'\n",
       "13. 'NOV'\n",
       "14. 'OKE'\n",
       "15. 'OXY'\n",
       "16. 'PSX'\n",
       "17. 'PXD'\n",
       "18. 'SLB'\n",
       "19. 'VLO'\n",
       "20. 'WMB'\n",
       "21. 'XOM'\n",
       "\n",
       "\n"
      ],
      "text/plain": [
       " [1] \"APA\"  \"BKR\"  \"COP\"  \"CVX\"  \"DVN\"  \"EOG\"  \"FANG\" \"HAL\"  \"HES\"  \"KMI\" \n",
       "[11] \"MPC\"  \"MRO\"  \"NOV\"  \"OKE\"  \"OXY\"  \"PSX\"  \"PXD\"  \"SLB\"  \"VLO\"  \"WMB\" \n",
       "[21] \"XOM\" "
      ]
     },
     "metadata": {},
     "output_type": "display_data"
    }
   ],
   "source": [
    "symbols"
   ]
  },
  {
   "cell_type": "code",
   "execution_count": 9,
   "id": "e0a1b8ad-1b1a-45dc-bb12-ad6dd557be47",
   "metadata": {},
   "outputs": [
    {
     "data": {
      "text/html": [
       "21"
      ],
      "text/latex": [
       "21"
      ],
      "text/markdown": [
       "21"
      ],
      "text/plain": [
       "[1] 21"
      ]
     },
     "metadata": {},
     "output_type": "display_data"
    }
   ],
   "source": [
    "length(symbols)"
   ]
  },
  {
   "cell_type": "markdown",
   "id": "9147bb4a-701d-4091-a1a1-4e7a572b3073",
   "metadata": {},
   "source": [
    "### Generating signals using time series models."
   ]
  },
  {
   "cell_type": "markdown",
   "id": "3482c7be-f21a-495a-a417-ddebd80c3b55",
   "metadata": {},
   "source": [
    "For-loops in R are less efficient than `apply`, we try to use the function `rollapply` as an alternative to for-loops when computing the forecasting results. The `rollapply` requires two key inputs. The first is `width` denoting the size of window for each time-series model fitting (and forecasting). The second is `FUN`, which is a customized function that takes a subset of the dataframe (e.g., rows from `t` to `t+window`) as inputs and returns the forecast value (e.g., for row `t+window+1`)."
   ]
  },
  {
   "cell_type": "code",
   "execution_count": 10,
   "id": "d22fb13d-0c14-49e9-95f7-787abc547324",
   "metadata": {},
   "outputs": [],
   "source": [
    "ets_forecast <- function (window) {\n",
    "    stock.ts <- ts(as.numeric(window[, 6]))\n",
    "    fit <- ets(stock.ts, model='ZZZ')\n",
    "    predicted <- forecast(fit, h=1)$mean\n",
    "    sigma <- sqrt(fit$sigma2)\n",
    "    return(c(predicted, sigma))\n",
    "}"
   ]
  },
  {
   "cell_type": "markdown",
   "id": "96e8ccd9-5c65-451c-a801-a0d7f7948313",
   "metadata": {},
   "source": [
    "We use the function `lag()` to shift the predicted value forward by 1 day because the prediction is for the next day."
   ]
  },
  {
   "cell_type": "code",
   "execution_count": 11,
   "id": "8beab1fd-6d10-48bf-98b6-b18d925554cb",
   "metadata": {
    "tags": []
   },
   "outputs": [],
   "source": [
    "result <- universe %>% \n",
    "    group_by(symbol) %>% \n",
    "    rollapply(., width=window, FUN=ets_forecast, by.column=FALSE, align='right', fill=NA) %>% \n",
    "    lag(.)\n",
    "\n",
    "predicted <- as.data.frame(result, colnames(result))\n",
    "colnames(predicted)<-c(\"Predicted\", \"Sigma\")"
   ]
  },
  {
   "cell_type": "code",
   "execution_count": 12,
   "id": "801e197a-8754-4ffd-b45b-f2845e61e199",
   "metadata": {},
   "outputs": [],
   "source": [
    "predicted <- cbind(universe, predicted)"
   ]
  },
  {
   "cell_type": "code",
   "execution_count": 13,
   "id": "d740eef2-45c0-4d8e-9bfc-2d443eebf6a7",
   "metadata": {},
   "outputs": [
    {
     "data": {
      "text/html": [
       "<table class=\"dataframe\">\n",
       "<caption>A grouped_df: 6 × 8</caption>\n",
       "<thead>\n",
       "\t<tr><th scope=col>symbol</th><th scope=col>date</th><th scope=col>open</th><th scope=col>high</th><th scope=col>low</th><th scope=col>close</th><th scope=col>Predicted</th><th scope=col>Sigma</th></tr>\n",
       "\t<tr><th scope=col>&lt;chr&gt;</th><th scope=col>&lt;date&gt;</th><th scope=col>&lt;dbl&gt;</th><th scope=col>&lt;dbl&gt;</th><th scope=col>&lt;dbl&gt;</th><th scope=col>&lt;dbl&gt;</th><th scope=col>&lt;dbl&gt;</th><th scope=col>&lt;dbl&gt;</th></tr>\n",
       "</thead>\n",
       "<tbody>\n",
       "\t<tr><td>XOM</td><td>2023-02-09</td><td>114.62</td><td>116.24</td><td>114.180</td><td>114.35</td><td>113.5905</td><td>0.01673834</td></tr>\n",
       "\t<tr><td>XOM</td><td>2023-02-10</td><td>116.51</td><td>119.63</td><td>116.160</td><td>119.17</td><td>113.9663</td><td>0.01650032</td></tr>\n",
       "\t<tr><td>XOM</td><td>2023-02-13</td><td>117.72</td><td>118.18</td><td>115.900</td><td>117.80</td><td>117.1383</td><td>0.01953941</td></tr>\n",
       "\t<tr><td>XOM</td><td>2023-02-14</td><td>117.01</td><td>117.81</td><td>116.017</td><td>116.42</td><td>117.6095</td><td>0.01948617</td></tr>\n",
       "\t<tr><td>XOM</td><td>2023-02-15</td><td>115.72</td><td>116.09</td><td>114.140</td><td>116.07</td><td>116.8613</td><td>0.01928072</td></tr>\n",
       "\t<tr><td>XOM</td><td>2023-02-16</td><td>115.31</td><td>116.78</td><td>114.800</td><td>115.73</td><td>116.3892</td><td>2.17474623</td></tr>\n",
       "</tbody>\n",
       "</table>\n"
      ],
      "text/latex": [
       "A grouped\\_df: 6 × 8\n",
       "\\begin{tabular}{llllllll}\n",
       " symbol & date & open & high & low & close & Predicted & Sigma\\\\\n",
       " <chr> & <date> & <dbl> & <dbl> & <dbl> & <dbl> & <dbl> & <dbl>\\\\\n",
       "\\hline\n",
       "\t XOM & 2023-02-09 & 114.62 & 116.24 & 114.180 & 114.35 & 113.5905 & 0.01673834\\\\\n",
       "\t XOM & 2023-02-10 & 116.51 & 119.63 & 116.160 & 119.17 & 113.9663 & 0.01650032\\\\\n",
       "\t XOM & 2023-02-13 & 117.72 & 118.18 & 115.900 & 117.80 & 117.1383 & 0.01953941\\\\\n",
       "\t XOM & 2023-02-14 & 117.01 & 117.81 & 116.017 & 116.42 & 117.6095 & 0.01948617\\\\\n",
       "\t XOM & 2023-02-15 & 115.72 & 116.09 & 114.140 & 116.07 & 116.8613 & 0.01928072\\\\\n",
       "\t XOM & 2023-02-16 & 115.31 & 116.78 & 114.800 & 115.73 & 116.3892 & 2.17474623\\\\\n",
       "\\end{tabular}\n"
      ],
      "text/markdown": [
       "\n",
       "A grouped_df: 6 × 8\n",
       "\n",
       "| symbol &lt;chr&gt; | date &lt;date&gt; | open &lt;dbl&gt; | high &lt;dbl&gt; | low &lt;dbl&gt; | close &lt;dbl&gt; | Predicted &lt;dbl&gt; | Sigma &lt;dbl&gt; |\n",
       "|---|---|---|---|---|---|---|---|\n",
       "| XOM | 2023-02-09 | 114.62 | 116.24 | 114.180 | 114.35 | 113.5905 | 0.01673834 |\n",
       "| XOM | 2023-02-10 | 116.51 | 119.63 | 116.160 | 119.17 | 113.9663 | 0.01650032 |\n",
       "| XOM | 2023-02-13 | 117.72 | 118.18 | 115.900 | 117.80 | 117.1383 | 0.01953941 |\n",
       "| XOM | 2023-02-14 | 117.01 | 117.81 | 116.017 | 116.42 | 117.6095 | 0.01948617 |\n",
       "| XOM | 2023-02-15 | 115.72 | 116.09 | 114.140 | 116.07 | 116.8613 | 0.01928072 |\n",
       "| XOM | 2023-02-16 | 115.31 | 116.78 | 114.800 | 115.73 | 116.3892 | 2.17474623 |\n",
       "\n"
      ],
      "text/plain": [
       "  symbol date       open   high   low     close  Predicted Sigma     \n",
       "1 XOM    2023-02-09 114.62 116.24 114.180 114.35 113.5905  0.01673834\n",
       "2 XOM    2023-02-10 116.51 119.63 116.160 119.17 113.9663  0.01650032\n",
       "3 XOM    2023-02-13 117.72 118.18 115.900 117.80 117.1383  0.01953941\n",
       "4 XOM    2023-02-14 117.01 117.81 116.017 116.42 117.6095  0.01948617\n",
       "5 XOM    2023-02-15 115.72 116.09 114.140 116.07 116.8613  0.01928072\n",
       "6 XOM    2023-02-16 115.31 116.78 114.800 115.73 116.3892  2.17474623"
      ]
     },
     "metadata": {},
     "output_type": "display_data"
    }
   ],
   "source": [
    "tail(predicted)"
   ]
  },
  {
   "cell_type": "markdown",
   "id": "954769d1-c91c-46d0-9e53-7c5409ca9487",
   "metadata": {},
   "source": [
    "### Rules based on the prediction and confidence interval"
   ]
  },
  {
   "cell_type": "markdown",
   "id": "4028c093-a500-40ac-85f0-bd9f58ee11c7",
   "metadata": {},
   "source": [
    "We apply the following rules to determine the trade position and the amount.\n",
    "\n",
    "Long or short is determined by predicted mean:\n",
    "- When mean predicted close price increases by 5% or more from the open, we long the stock,\n",
    "- When mean predicted close price decreases by 5% or more from the open, we short the stock.\n",
    "\n",
    "Amount is determined by the confidence interval (Sigma in the table):\n",
    "- If `sigma`/`predicted price` is less than 1%, invest 10% of capital (equivalent to up 3%+ with 95% confidence),\n",
    "- Else, if `sigma`/`predicted price` is less than 2%, invest 5% of capital (equivalent to up 1%+ with 95% confidence, or up 3% with 87% confidence),\n",
    "- Else, if `sigma`/`predicted price` is less than 5%, invest 2% of capital (equivalent to up with 87% confidence).\n"
   ]
  },
  {
   "cell_type": "code",
   "execution_count": 14,
   "id": "770f3b63-98f4-4dc4-a8d7-96ec6ff47fdd",
   "metadata": {},
   "outputs": [],
   "source": [
    "applyRules <- function(total_cash, open, sigma, predicted){\n",
    "    if ((predicted - open)/open >= returnthreshold) {longshort <- 1}\n",
    "    else {\n",
    "        if ((open - predicted)/open >= returnthreshold) {longshort <- -1}\n",
    "        else return(0)}\n",
    "    \n",
    "    abs_shares <- 0\n",
    "    if (sigma/predicted < 0.01) abs_shares <- floor(0.1*total_cash/open) # integer shares\n",
    "    else {\n",
    "        if (sigma/predicted < 0.02) abs_shares <- floor(0.05*total_cash/open)\n",
    "        else if (sigma/predicted < 0.05) abs_shares <- floor(0.02*total_cash/open)\n",
    "    }\n",
    "    return(longshort*abs_shares)\n",
    "}"
   ]
  },
  {
   "cell_type": "markdown",
   "id": "92d66c7f-5a4b-417f-ba4b-780e8483cdcd",
   "metadata": {},
   "source": [
    "### Apply contraints and adjust the trading strategies.\n",
    "\n",
    "Once we have the initial strategy, we apply contraints on ***max position number*** and ***max fund amount*** based on the expected return and total cost. Then we ***update the strategy*** with contraints applied before we compute the actual return."
   ]
  },
  {
   "cell_type": "markdown",
   "id": "3db0f618-b48c-43ea-9469-f4a61819fb6c",
   "metadata": {},
   "source": [
    "We keep track the daily trading operations by two additional columns in the dataframe, `trade_shares`, `expected_return`, and `cash_balance`. The two columns are calculated based on the rule and are sufficient to calculate the return of each trade.\n",
    "\n",
    "- `trade_shares` is an integer value tracking the number of shares traded at the opening of the day. If the value is positive, then the stock has a long position. Otherwise, we have a short position. It is directly given by the trading rules.\n",
    "- `expected_return` is obtained by multuplying `trade_shares`*(`Predicted`-`open`). ***It will be used to determine which trades will be kept when contrains like max positions are exceed.*** Namely, we only keep the ***top-K profitable trades*** given a max number of positions K. \n",
    "- `actual_return` is obtained by calculating `trade_shares`*(`close`-`open`) subject to stop-loss `trade_shares` * `open`*10%. It will be used to calculate the `cash_balance` at the end of the day and the performance evaluation.\n",
    "\n",
    "In addition, we include the overall `cash_balance` for individual days to track the cash after trading at the end of the day. It is computed by `cash_balance at t-1` + $\\sum_{all-symbol}$ (`close`-`open`)*`trade_shares`. ***It will be used to determine the amout of money we invest to each stock on the next day.*** Moreover, it will be used to compute the overall performance of our strategy.\n",
    "\n",
    "**Calculating the columns**: because the amount of a position is based on the `cash_balance` of the previous day, and the `cash_balance` of each day is affected by the `expected_return` of all stocks due to the constraints, we need to calculate the values in new columns following the order of date. "
   ]
  },
  {
   "cell_type": "markdown",
   "id": "fc14a0eb-a164-4211-8ea4-6ee07a7bbf79",
   "metadata": {},
   "source": [
    "**To apply the constraints of maximum long/short positions**, we first compute the expected return of all candidate trades. Then for both long and short, we only keep the **top-k trade based on the expected return** (k is the max position constraint). The threshold is obtained by the following code. We also provide a test case to validate the implementation."
   ]
  },
  {
   "cell_type": "code",
   "execution_count": 15,
   "id": "ef0d589d-681f-4436-8e73-a2534cd7e27a",
   "metadata": {},
   "outputs": [
    {
     "data": {
      "text/html": [
       "<style>\n",
       ".list-inline {list-style: none; margin:0; padding: 0}\n",
       ".list-inline>li {display: inline-block}\n",
       ".list-inline>li:not(:last-child)::after {content: \"\\00b7\"; padding: 0 .5ex}\n",
       "</style>\n",
       "<ol class=list-inline><li>220</li><li>150</li></ol>\n"
      ],
      "text/latex": [
       "\\begin{enumerate*}\n",
       "\\item 220\n",
       "\\item 150\n",
       "\\end{enumerate*}\n"
      ],
      "text/markdown": [
       "1. 220\n",
       "2. 150\n",
       "\n",
       "\n"
      ],
      "text/plain": [
       "[1] 220 150"
      ]
     },
     "metadata": {},
     "output_type": "display_data"
    }
   ],
   "source": [
    "get_topk <- function(expected_return, trade_shares, k_long, k_short){\n",
    "    values <- sign(trade_shares)*expected_return\n",
    "    th_long <- max(sort(values)[length(values)-k_long+1], 0)\n",
    "    th_short <- min(sort(values)[k_short], 0)\n",
    "    return(c(th_long, -th_short))\n",
    "}\n",
    "\n",
    "# Test the function\n",
    "test_return <- c(100, 200, 300, 150, 220, 120)\n",
    "test_shares <- c(-10, 2, 8, -15, 20, 12)\n",
    "th <- get_topk(test_return, test_shares, 2, 1)\n",
    "th"
   ]
  },
  {
   "cell_type": "markdown",
   "id": "15e42e36-f5d0-4e2b-94fb-48f29f5df041",
   "metadata": {},
   "source": [
    "In this testing example, if long a stock, the expected profit must be greater than 220; if short a stock, the profit must be greater than 150. So that there are at most 2 long positions and 1 short position, individually. We will use the thresholds to adjust the dataframe to fulfill the constraints."
   ]
  },
  {
   "cell_type": "markdown",
   "id": "bd1fd1ce-beca-430a-8e88-8a6a35338141",
   "metadata": {},
   "source": [
    "**To apply the contraints of maximum amount of capital/equity**, we ***evenly shrunk*** all opening positions if the cost of opening positions exceed the maximum amount of capital/equity. Specifically, we update `trade_shares` by `new trade_share` = `floor` ( `max_capital` / `total_cost` * `trade_share` ). We implement the shrunking together with the filter by thresholds for the previous contraints in the following function."
   ]
  },
  {
   "cell_type": "code",
   "execution_count": 16,
   "id": "d651113e-531f-4840-aa3f-9e32d9b54a09",
   "metadata": {},
   "outputs": [],
   "source": [
    "filter_and_shrunk <- function(stocks, max_cash, max_long, max_short){\n",
    "    # filter by thresholds\n",
    "    th <- get_topk(stocks$expected_return, stocks$trade_shares, max_long, max_short)\n",
    "    stocks %>% mutate(\n",
    "        trade_shares=ifelse(\n",
    "            sign(trade_shares)*expected_return>=(th[1])|\n",
    "            sign(trade_shares)*expected_return<=(-th[2]),\n",
    "            trade_shares, 0\n",
    "        ))\n",
    "\n",
    "    # shrunk by max_cash/total_cost if exceeded\n",
    "    total_cost <- sum(stocks$trade_shares*stocks$open)\n",
    "    if (total_cost > max_cash) {\n",
    "        shrunk <- max_cash/total_cost\n",
    "        stocks$trade_shares <- floor(stocks$trade_shares*shrunk)\n",
    "    }\n",
    "    stocks <- stocks %>% mutate(expected_return=trade_shares*(Predicted-open))\n",
    "    return(stocks)\n",
    "}"
   ]
  },
  {
   "cell_type": "markdown",
   "id": "86521786-bfc3-4595-9574-94be614fe591",
   "metadata": {},
   "source": [
    "We also include the ***stop-loss strategy***; namely when an opening position has lost more than 10% within the day, we stop loss before the market close. This is especially crucial for short position (we don't want to be short-squeezed!). In back-testing, for a long position, if the `low` is 10%+ down compared to `open`, we say the stop loss order is trigered. And the return of that day becomes (`open` * `trade_shares` * 10%) instead of (`close`-`open`) * `trade_shares` even if `close` is higher than `open`.\n",
    "\n",
    "Considering the stop-loss strategy, we implement the function to calculate the `actual_return` column."
   ]
  },
  {
   "cell_type": "code",
   "execution_count": 17,
   "id": "566a1a26-ce9b-40bb-babc-212a8f0f7666",
   "metadata": {},
   "outputs": [],
   "source": [
    "get_return <- function(stocks, stop_loss_perc=0.1){\n",
    "    stocks <- stocks %>% mutate(\n",
    "        actual_return=ifelse(\n",
    "            trade_shares>0 & (low-open)/open>stop_loss_perc|  # for long\n",
    "            trade_shares<0 & (high-open)/open>stop_loss_perc, # for short \n",
    "            -open*trade_shares*stop_loss_perc, # if stop loss\n",
    "            (close-open)*trade_shares # if not stopped\n",
    "    ))\n",
    "    return(stocks)\n",
    "}"
   ]
  },
  {
   "cell_type": "markdown",
   "id": "29a8bcca-0971-4a80-b548-f934cbb31309",
   "metadata": {},
   "source": [
    "### Backtesting and performance evaluation"
   ]
  },
  {
   "cell_type": "markdown",
   "id": "84c967ca-78db-4f9a-9916-cc6ce837dec1",
   "metadata": {},
   "source": [
    "We first add columns with initial values to the dataframe."
   ]
  },
  {
   "cell_type": "code",
   "execution_count": 18,
   "id": "33735e15-6171-4127-a0d8-5b43653f1392",
   "metadata": {},
   "outputs": [],
   "source": [
    "predicted['trade_shares'] <- 0\n",
    "predicted['expected_return'] <- 0\n",
    "predicted['actual_return'] <- 0"
   ]
  },
  {
   "cell_type": "markdown",
   "id": "a2f2b87a-3440-42f4-9706-bf103f119fe8",
   "metadata": {},
   "source": [
    "We now use all functions defined above to compute, adjust the tradings traversing each trading days, and compute the actual return of each trade, and finally compute the total equity we have (or our cash balance at the end of) each day."
   ]
  },
  {
   "cell_type": "code",
   "execution_count": 19,
   "id": "83544787-3902-479d-85a5-cc30e71f81b6",
   "metadata": {},
   "outputs": [],
   "source": [
    "cash <- initialequity\n",
    "record <- c(cash)\n",
    "for (date in dates[(window+1):length(dates)]){\n",
    "    stocks <- predicted[predicted['date']==date,]\n",
    "    stocks <- stocks %>% mutate(\n",
    "        trade_shares=applyRules(cash, open, Sigma, Predicted),\n",
    "        expected_return=trade_shares*(Predicted-open))\n",
    "    \n",
    "    stocks <- filter_and_shrunk(stocks, cash, maxlongtrades, maxshorttrades)\n",
    "    stocks <- get_return(stocks)\n",
    "    predicted[predicted['date']==date,] <- stocks\n",
    "    cash <- cash + sum(stocks$actual_return) # cash amout at the end of trading\n",
    "    record <- c(record, cash)\n",
    "}"
   ]
  },
  {
   "cell_type": "code",
   "execution_count": 20,
   "id": "8d37051f-46bf-4b46-991d-5bbda32632d3",
   "metadata": {
    "tags": []
   },
   "outputs": [],
   "source": [
    "back_test <- predicted[predicted$date>=dates[window+1],]"
   ]
  },
  {
   "cell_type": "markdown",
   "id": "2616538b-f84d-4ef0-91ec-3b33fc46df29",
   "metadata": {},
   "source": [
    "Below is how finally the table looks like."
   ]
  },
  {
   "cell_type": "code",
   "execution_count": 21,
   "id": "cf7b92ac-2c1a-4bed-81be-cd3661a91305",
   "metadata": {},
   "outputs": [
    {
     "data": {
      "text/html": [
       "<table class=\"dataframe\">\n",
       "<caption>A grouped_df: 6 × 11</caption>\n",
       "<thead>\n",
       "\t<tr><th scope=col>symbol</th><th scope=col>date</th><th scope=col>open</th><th scope=col>high</th><th scope=col>low</th><th scope=col>close</th><th scope=col>Predicted</th><th scope=col>Sigma</th><th scope=col>trade_shares</th><th scope=col>expected_return</th><th scope=col>actual_return</th></tr>\n",
       "\t<tr><th scope=col>&lt;chr&gt;</th><th scope=col>&lt;date&gt;</th><th scope=col>&lt;dbl&gt;</th><th scope=col>&lt;dbl&gt;</th><th scope=col>&lt;dbl&gt;</th><th scope=col>&lt;dbl&gt;</th><th scope=col>&lt;dbl&gt;</th><th scope=col>&lt;dbl&gt;</th><th scope=col>&lt;dbl&gt;</th><th scope=col>&lt;dbl&gt;</th><th scope=col>&lt;dbl&gt;</th></tr>\n",
       "</thead>\n",
       "<tbody>\n",
       "\t<tr><td>APA</td><td>2021-01-04</td><td>14.650</td><td>14.950</td><td>14.38</td><td>14.77</td><td>14.27552</td><td>0.62852688</td><td>-136</td><td>50.92923</td><td>-16.32</td></tr>\n",
       "\t<tr><td>APA</td><td>2021-01-05</td><td>14.860</td><td>16.728</td><td>14.86</td><td>16.18</td><td>14.62482</td><td>0.03730348</td><td>   0</td><td> 0.00000</td><td>  0.00</td></tr>\n",
       "\t<tr><td>APA</td><td>2021-01-06</td><td>16.404</td><td>17.075</td><td>15.69</td><td>16.84</td><td>16.17985</td><td>0.65007269</td><td>   0</td><td> 0.00000</td><td>  0.00</td></tr>\n",
       "\t<tr><td>APA</td><td>2021-01-07</td><td>17.000</td><td>17.500</td><td>16.73</td><td>17.11</td><td>16.83993</td><td>0.66749863</td><td>   0</td><td> 0.00000</td><td>  0.00</td></tr>\n",
       "\t<tr><td>APA</td><td>2021-01-08</td><td>17.360</td><td>17.450</td><td>16.30</td><td>16.58</td><td>17.10997</td><td>0.66771744</td><td>   0</td><td> 0.00000</td><td>  0.00</td></tr>\n",
       "\t<tr><td>APA</td><td>2021-01-11</td><td>15.950</td><td>16.750</td><td>15.79</td><td>16.66</td><td>16.58005</td><td>0.58289641</td><td> 126</td><td>79.38668</td><td> 89.46</td></tr>\n",
       "</tbody>\n",
       "</table>\n"
      ],
      "text/latex": [
       "A grouped\\_df: 6 × 11\n",
       "\\begin{tabular}{lllllllllll}\n",
       " symbol & date & open & high & low & close & Predicted & Sigma & trade\\_shares & expected\\_return & actual\\_return\\\\\n",
       " <chr> & <date> & <dbl> & <dbl> & <dbl> & <dbl> & <dbl> & <dbl> & <dbl> & <dbl> & <dbl>\\\\\n",
       "\\hline\n",
       "\t APA & 2021-01-04 & 14.650 & 14.950 & 14.38 & 14.77 & 14.27552 & 0.62852688 & -136 & 50.92923 & -16.32\\\\\n",
       "\t APA & 2021-01-05 & 14.860 & 16.728 & 14.86 & 16.18 & 14.62482 & 0.03730348 &    0 &  0.00000 &   0.00\\\\\n",
       "\t APA & 2021-01-06 & 16.404 & 17.075 & 15.69 & 16.84 & 16.17985 & 0.65007269 &    0 &  0.00000 &   0.00\\\\\n",
       "\t APA & 2021-01-07 & 17.000 & 17.500 & 16.73 & 17.11 & 16.83993 & 0.66749863 &    0 &  0.00000 &   0.00\\\\\n",
       "\t APA & 2021-01-08 & 17.360 & 17.450 & 16.30 & 16.58 & 17.10997 & 0.66771744 &    0 &  0.00000 &   0.00\\\\\n",
       "\t APA & 2021-01-11 & 15.950 & 16.750 & 15.79 & 16.66 & 16.58005 & 0.58289641 &  126 & 79.38668 &  89.46\\\\\n",
       "\\end{tabular}\n"
      ],
      "text/markdown": [
       "\n",
       "A grouped_df: 6 × 11\n",
       "\n",
       "| symbol &lt;chr&gt; | date &lt;date&gt; | open &lt;dbl&gt; | high &lt;dbl&gt; | low &lt;dbl&gt; | close &lt;dbl&gt; | Predicted &lt;dbl&gt; | Sigma &lt;dbl&gt; | trade_shares &lt;dbl&gt; | expected_return &lt;dbl&gt; | actual_return &lt;dbl&gt; |\n",
       "|---|---|---|---|---|---|---|---|---|---|---|\n",
       "| APA | 2021-01-04 | 14.650 | 14.950 | 14.38 | 14.77 | 14.27552 | 0.62852688 | -136 | 50.92923 | -16.32 |\n",
       "| APA | 2021-01-05 | 14.860 | 16.728 | 14.86 | 16.18 | 14.62482 | 0.03730348 |    0 |  0.00000 |   0.00 |\n",
       "| APA | 2021-01-06 | 16.404 | 17.075 | 15.69 | 16.84 | 16.17985 | 0.65007269 |    0 |  0.00000 |   0.00 |\n",
       "| APA | 2021-01-07 | 17.000 | 17.500 | 16.73 | 17.11 | 16.83993 | 0.66749863 |    0 |  0.00000 |   0.00 |\n",
       "| APA | 2021-01-08 | 17.360 | 17.450 | 16.30 | 16.58 | 17.10997 | 0.66771744 |    0 |  0.00000 |   0.00 |\n",
       "| APA | 2021-01-11 | 15.950 | 16.750 | 15.79 | 16.66 | 16.58005 | 0.58289641 |  126 | 79.38668 |  89.46 |\n",
       "\n"
      ],
      "text/plain": [
       "  symbol date       open   high   low   close Predicted Sigma      trade_shares\n",
       "1 APA    2021-01-04 14.650 14.950 14.38 14.77 14.27552  0.62852688 -136        \n",
       "2 APA    2021-01-05 14.860 16.728 14.86 16.18 14.62482  0.03730348    0        \n",
       "3 APA    2021-01-06 16.404 17.075 15.69 16.84 16.17985  0.65007269    0        \n",
       "4 APA    2021-01-07 17.000 17.500 16.73 17.11 16.83993  0.66749863    0        \n",
       "5 APA    2021-01-08 17.360 17.450 16.30 16.58 17.10997  0.66771744    0        \n",
       "6 APA    2021-01-11 15.950 16.750 15.79 16.66 16.58005  0.58289641  126        \n",
       "  expected_return actual_return\n",
       "1 50.92923        -16.32       \n",
       "2  0.00000          0.00       \n",
       "3  0.00000          0.00       \n",
       "4  0.00000          0.00       \n",
       "5  0.00000          0.00       \n",
       "6 79.38668         89.46       "
      ]
     },
     "metadata": {},
     "output_type": "display_data"
    }
   ],
   "source": [
    "head(back_test)"
   ]
  },
  {
   "cell_type": "markdown",
   "id": "a53d87b7-5dcf-4c15-933f-6b44ea69fb91",
   "metadata": {},
   "source": [
    "Now we construct a new dataframe to compare the return of our strategy with one baseline strategy."
   ]
  },
  {
   "cell_type": "code",
   "execution_count": 22,
   "id": "5370eca9-8c65-428b-8c44-e2c408d54eb8",
   "metadata": {},
   "outputs": [],
   "source": [
    "trade_dates <- dates[(window+1):length(dates)]\n",
    "our_return <- record[-1]/record[1]\n",
    "buy_hold_xom <- back_test[back_test$symbol=='XOM',]$close\n",
    "buy_hold_xom <- buy_hold_xom/buy_hold_xom[1]\n",
    "comparison <- data.frame(trade_dates, our_return, buy_hold_xom)"
   ]
  },
  {
   "cell_type": "code",
   "execution_count": 23,
   "id": "b5d6a945-e5fa-47c8-bc9d-74bf51afc5de",
   "metadata": {},
   "outputs": [
    {
     "data": {
      "text/html": [
       "<table class=\"dataframe\">\n",
       "<caption>A data.frame: 6 × 3</caption>\n",
       "<thead>\n",
       "\t<tr><th></th><th scope=col>trade_dates</th><th scope=col>our_return</th><th scope=col>buy_hold_xom</th></tr>\n",
       "\t<tr><th></th><th scope=col>&lt;date&gt;</th><th scope=col>&lt;dbl&gt;</th><th scope=col>&lt;dbl&gt;</th></tr>\n",
       "</thead>\n",
       "<tbody>\n",
       "\t<tr><th scope=row>1</th><td>2021-01-04</td><td>0.9996743</td><td>1.000000</td></tr>\n",
       "\t<tr><th scope=row>2</th><td>2021-01-05</td><td>1.0107018</td><td>1.048193</td></tr>\n",
       "\t<tr><th scope=row>3</th><td>2021-01-06</td><td>1.0040789</td><td>1.074940</td></tr>\n",
       "\t<tr><th scope=row>4</th><td>2021-01-07</td><td>1.0039760</td><td>1.083373</td></tr>\n",
       "\t<tr><th scope=row>5</th><td>2021-01-08</td><td>1.0058310</td><td>1.095422</td></tr>\n",
       "\t<tr><th scope=row>6</th><td>2021-01-11</td><td>1.0346472</td><td>1.128675</td></tr>\n",
       "</tbody>\n",
       "</table>\n"
      ],
      "text/latex": [
       "A data.frame: 6 × 3\n",
       "\\begin{tabular}{r|lll}\n",
       "  & trade\\_dates & our\\_return & buy\\_hold\\_xom\\\\\n",
       "  & <date> & <dbl> & <dbl>\\\\\n",
       "\\hline\n",
       "\t1 & 2021-01-04 & 0.9996743 & 1.000000\\\\\n",
       "\t2 & 2021-01-05 & 1.0107018 & 1.048193\\\\\n",
       "\t3 & 2021-01-06 & 1.0040789 & 1.074940\\\\\n",
       "\t4 & 2021-01-07 & 1.0039760 & 1.083373\\\\\n",
       "\t5 & 2021-01-08 & 1.0058310 & 1.095422\\\\\n",
       "\t6 & 2021-01-11 & 1.0346472 & 1.128675\\\\\n",
       "\\end{tabular}\n"
      ],
      "text/markdown": [
       "\n",
       "A data.frame: 6 × 3\n",
       "\n",
       "| <!--/--> | trade_dates &lt;date&gt; | our_return &lt;dbl&gt; | buy_hold_xom &lt;dbl&gt; |\n",
       "|---|---|---|---|\n",
       "| 1 | 2021-01-04 | 0.9996743 | 1.000000 |\n",
       "| 2 | 2021-01-05 | 1.0107018 | 1.048193 |\n",
       "| 3 | 2021-01-06 | 1.0040789 | 1.074940 |\n",
       "| 4 | 2021-01-07 | 1.0039760 | 1.083373 |\n",
       "| 5 | 2021-01-08 | 1.0058310 | 1.095422 |\n",
       "| 6 | 2021-01-11 | 1.0346472 | 1.128675 |\n",
       "\n"
      ],
      "text/plain": [
       "  trade_dates our_return buy_hold_xom\n",
       "1 2021-01-04  0.9996743  1.000000    \n",
       "2 2021-01-05  1.0107018  1.048193    \n",
       "3 2021-01-06  1.0040789  1.074940    \n",
       "4 2021-01-07  1.0039760  1.083373    \n",
       "5 2021-01-08  1.0058310  1.095422    \n",
       "6 2021-01-11  1.0346472  1.128675    "
      ]
     },
     "metadata": {},
     "output_type": "display_data"
    }
   ],
   "source": [
    "head(comparison)"
   ]
  },
  {
   "cell_type": "markdown",
   "id": "3596fb15-09ee-43eb-ab39-1f55a1a22144",
   "metadata": {},
   "source": [
    "Using the below code we plot the performance comparison between our strategy and the buy&hold strategy with XOM only. Note that since the performance is not a primary goal of this homework, we did not tune or optimize our models and strategies. And our strategy is relatively preservative. Therefore, the performance of our strategy is not that competative to the buy&hold."
   ]
  },
  {
   "cell_type": "code",
   "execution_count": 24,
   "id": "8c84f64c-4fa2-4e15-b7aa-1599882e162a",
   "metadata": {},
   "outputs": [
    {
     "data": {
      "image/png": "[encoded data removed]",
      "text/plain": [
       "plot without title"
      ]
     },
     "metadata": {
      "image/png": {
       "height": 480,
       "width": 900
      }
     },
     "output_type": "display_data"
    }
   ],
   "source": [
    "options(repr.plot.width=15, repr.plot.height=8)\n",
    "ggplot(comparison, aes(x=trade_dates)) +\n",
    "    geom_area(aes(y=buy_hold_xom*100, fill = \"Buy&Hold XOM\")) +\n",
    "    geom_area(aes(y=our_return*100, fill = \"Our Strategy\")) +\n",
    "    labs(y='% Accumulated Daily Return', x='Date')"
   ]
  },
  {
   "cell_type": "markdown",
   "id": "286f7ff5-a45b-4a36-ad7f-7b972374e7bb",
   "metadata": {},
   "source": [
    "One thing worthnoting from the plot is that, the return of ***our strategy has a low correlation*** to the price change itself (from both the figure and the quantitative results below). The profit periods of our strategy are usually during the drawdown of the price itself. And the loss periods usually happens when the price goes up. It indicates that our strategy can be used to deversify the portfolio (something like CTA strategies)."
   ]
  },
  {
   "cell_type": "code",
   "execution_count": 25,
   "id": "bea02db7-c4c0-4589-ada8-5387969ccacf",
   "metadata": {},
   "outputs": [
    {
     "data": {
      "text/html": [
       "0.246214900593146"
      ],
      "text/latex": [
       "0.246214900593146"
      ],
      "text/markdown": [
       "0.246214900593146"
      ],
      "text/plain": [
       "[1] 0.2462149"
      ]
     },
     "metadata": {},
     "output_type": "display_data"
    }
   ],
   "source": [
    "cor(comparison$our_return, comparison$buy_hold_xom)"
   ]
  },
  {
   "cell_type": "markdown",
   "id": "6db28765-29f4-4474-93e5-3c727e9ca36e",
   "metadata": {},
   "source": [
    "Now, we **Generate performance summary** from the dataframe with actual returns.\n",
    "- **Max drawdown**: we implement function that takes the vector of daily equity (cash balance at the end of each day) as input, and compute the maximum drawdown percentage and period by traversing all dates once and keeping track the max equity and max draw down so far. The complexity of this algorithm is O(N)."
   ]
  },
  {
   "cell_type": "code",
   "execution_count": 26,
   "id": "5aa32219-035d-475a-82fb-80eb719d8f08",
   "metadata": {},
   "outputs": [],
   "source": [
    "max_drawdown <- function(equity, dates){\n",
    "    max_equity <- 0\n",
    "    max_equity_date <- dates[1]\n",
    "    max_drawdown <- 0\n",
    "    for (i in 1:length(equity)){\n",
    "        if (equity[i]>=max_equity) {\n",
    "            max_equity <- equity[i]\n",
    "            max_equity_date <- dates[i]\n",
    "        }\n",
    "        else {\n",
    "            drawdown <- (max_equity - equity[i])/max_equity\n",
    "            if (drawdown >= max_drawdown) {\n",
    "                max_drawdown <- drawdown\n",
    "                max_drawdown_period <- dates[i] - max_equity_date\n",
    "            }\n",
    "        }\n",
    "    }\n",
    "    return(c(percent(max_drawdown, 0.1), max_drawdown_period))\n",
    "}"
   ]
  },
  {
   "cell_type": "markdown",
   "id": "0237f841-eb9c-443e-b69b-6fb1b52fa597",
   "metadata": {},
   "source": [
    "The max percentage of drawdown, and the period of that drawdown (in days) are:"
   ]
  },
  {
   "cell_type": "code",
   "execution_count": 27,
   "id": "117a7c46-c0f6-4453-827c-429ebca84103",
   "metadata": {},
   "outputs": [
    {
     "data": {
      "text/html": [
       "<style>\n",
       ".list-inline {list-style: none; margin:0; padding: 0}\n",
       ".list-inline>li {display: inline-block}\n",
       ".list-inline>li:not(:last-child)::after {content: \"\\00b7\"; padding: 0 .5ex}\n",
       "</style>\n",
       "<ol class=list-inline><li>'16.9%'</li><li>'209'</li></ol>\n"
      ],
      "text/latex": [
       "\\begin{enumerate*}\n",
       "\\item '16.9\\%'\n",
       "\\item '209'\n",
       "\\end{enumerate*}\n"
      ],
      "text/markdown": [
       "1. '16.9%'\n",
       "2. '209'\n",
       "\n",
       "\n"
      ],
      "text/plain": [
       "[1] \"16.9%\" \"209\"  "
      ]
     },
     "metadata": {},
     "output_type": "display_data"
    }
   ],
   "source": [
    "max_drawdown(record, dates[(window+1):length(dates)])"
   ]
  },
  {
   "cell_type": "markdown",
   "id": "fbb67f60-8166-439d-9e12-9c1544dcfa28",
   "metadata": {},
   "source": [
    "- **Number of (winning) trades** can be easily summarized from the result table as follows."
   ]
  },
  {
   "cell_type": "markdown",
   "id": "8d26005f-633e-4003-9a1a-ddd9185ff469",
   "metadata": {},
   "source": [
    "The number of long trades, percentage of winning long trades, and the average return of long trades are:"
   ]
  },
  {
   "cell_type": "code",
   "execution_count": 28,
   "id": "6145772b-d4c8-42d7-a473-ea0a1a7d07a9",
   "metadata": {},
   "outputs": [
    {
     "data": {
      "text/html": [
       "<style>\n",
       ".list-inline {list-style: none; margin:0; padding: 0}\n",
       ".list-inline>li {display: inline-block}\n",
       ".list-inline>li:not(:last-child)::after {content: \"\\00b7\"; padding: 0 .5ex}\n",
       "</style>\n",
       "<ol class=list-inline><li>'1223'</li><li>'54.2%'</li><li>'12.255547833197'</li></ol>\n"
      ],
      "text/latex": [
       "\\begin{enumerate*}\n",
       "\\item '1223'\n",
       "\\item '54.2\\%'\n",
       "\\item '12.255547833197'\n",
       "\\end{enumerate*}\n"
      ],
      "text/markdown": [
       "1. '1223'\n",
       "2. '54.2%'\n",
       "3. '12.255547833197'\n",
       "\n",
       "\n"
      ],
      "text/plain": [
       "[1] \"1223\"            \"54.2%\"           \"12.255547833197\""
      ]
     },
     "metadata": {},
     "output_type": "display_data"
    }
   ],
   "source": [
    "num_long <- sum(back_test$trade_shares>0)\n",
    "win_long <- sum(back_test$trade_shares>0&back_test$actual_return>0)\n",
    "perc_winlong <- percent(win_long/num_long, 0.1)\n",
    "avgret_long <- mean(back_test[back_test$trade_shares>0,]$actual_return)\n",
    "c(num_long, perc_winlong, avgret_long)"
   ]
  },
  {
   "cell_type": "markdown",
   "id": "40771a85-e3d4-4114-b446-23b450d55b4e",
   "metadata": {},
   "source": [
    "The number of short trades, percentage of winning short trades, and the average return of short trades are:"
   ]
  },
  {
   "cell_type": "code",
   "execution_count": 29,
   "id": "6781dcd8-12a1-4896-b932-e0116195ae4f",
   "metadata": {},
   "outputs": [
    {
     "data": {
      "text/html": [
       "<style>\n",
       ".list-inline {list-style: none; margin:0; padding: 0}\n",
       ".list-inline>li {display: inline-block}\n",
       ".list-inline>li:not(:last-child)::after {content: \"\\00b7\"; padding: 0 .5ex}\n",
       "</style>\n",
       "<ol class=list-inline><li>'1078'</li><li>'49.1%'</li><li>'1.99805844155844'</li></ol>\n"
      ],
      "text/latex": [
       "\\begin{enumerate*}\n",
       "\\item '1078'\n",
       "\\item '49.1\\%'\n",
       "\\item '1.99805844155844'\n",
       "\\end{enumerate*}\n"
      ],
      "text/markdown": [
       "1. '1078'\n",
       "2. '49.1%'\n",
       "3. '1.99805844155844'\n",
       "\n",
       "\n"
      ],
      "text/plain": [
       "[1] \"1078\"             \"49.1%\"            \"1.99805844155844\""
      ]
     },
     "metadata": {},
     "output_type": "display_data"
    }
   ],
   "source": [
    "num_short <- sum(back_test$trade_shares<0)\n",
    "win_short <- sum(back_test$trade_shares<0&back_test$actual_return>0)\n",
    "perc_winshort <- percent(win_short/num_short, 0.1)\n",
    "avgret_short <- mean(back_test[back_test$trade_shares<0,]$actual_return)\n",
    "c(num_short, perc_winshort, avgret_short)"
   ]
  },
  {
   "cell_type": "markdown",
   "id": "69489240-eeed-4177-880a-e65f5c1a572f",
   "metadata": {},
   "source": [
    "The percentage of overall winning trades is:"
   ]
  },
  {
   "cell_type": "code",
   "execution_count": 30,
   "id": "5b2160e9-1ce6-4fd8-95fe-639bd10601a7",
   "metadata": {},
   "outputs": [
    {
     "data": {
      "text/html": [
       "'51.8%'"
      ],
      "text/latex": [
       "'51.8\\%'"
      ],
      "text/markdown": [
       "'51.8%'"
      ],
      "text/plain": [
       "[1] \"51.8%\""
      ]
     },
     "metadata": {},
     "output_type": "display_data"
    }
   ],
   "source": [
    "perc_winall <- percent((win_long+win_short)/(num_long+num_short), 0.1)\n",
    "perc_winall"
   ]
  },
  {
   "cell_type": "markdown",
   "id": "4145158c-47cf-4dae-898f-891cec1729ea",
   "metadata": {},
   "source": [
    "- **Sharpe ratio** is defined as $r = \\frac{R-R_0}{\\sigma}$, where $R$ is the return of our strategy, $R_0$ is the risk-free return, which we set to $0.12\\%$ using the 2-year yield on 2021/01/03 which is the beginning of our back-test period. $\\sigma$ is the standard deviation of the return\n",
    "\n",
    "The accumulated return and the Sharpe ratio of above strategy are:"
   ]
  },
  {
   "cell_type": "code",
   "execution_count": 31,
   "id": "9dd23e7f-050e-40bf-831b-39271d7440c3",
   "metadata": {},
   "outputs": [
    {
     "data": {
      "text/html": [
       "<style>\n",
       ".list-inline {list-style: none; margin:0; padding: 0}\n",
       ".list-inline>li {display: inline-block}\n",
       ".list-inline>li:not(:last-child)::after {content: \"\\00b7\"; padding: 0 .5ex}\n",
       "</style>\n",
       "<ol class=list-inline><li>'17.1%'</li><li>'3.17288082210213'</li></ol>\n"
      ],
      "text/latex": [
       "\\begin{enumerate*}\n",
       "\\item '17.1\\%'\n",
       "\\item '3.17288082210213'\n",
       "\\end{enumerate*}\n"
      ],
      "text/markdown": [
       "1. '17.1%'\n",
       "2. '3.17288082210213'\n",
       "\n",
       "\n"
      ],
      "text/plain": [
       "[1] \"17.1%\"            \"3.17288082210213\""
      ]
     },
     "metadata": {},
     "output_type": "display_data"
    }
   ],
   "source": [
    "sigma <- sd(record/record[1])\n",
    "final_return <- (record[length(record)]-record[1])/record[1]\n",
    "r <- (final_return-0.0012)/sigma\n",
    "c(percent(final_return, 0.1), r)"
   ]
  }
 ],
 "metadata": {
  "kernelspec": {
   "display_name": "R",
   "language": "R",
   "name": "ir"
  },
  "language_info": {
   "codemirror_mode": "r",
   "file_extension": ".r",
   "mimetype": "text/x-r-source",
   "name": "R",
   "pygments_lexer": "r",
   "version": "4.2.2"
  }
 },
 "nbformat": 4,
 "nbformat_minor": 5
}
